{
 "cells": [
  {
   "cell_type": "code",
   "execution_count": 1,
   "metadata": {},
   "outputs": [
    {
     "name": "stdout",
     "output_type": "stream",
     "text": [
      "Requirement already satisfied: pillow in c:\\users\\pc\\appdata\\local\\programs\\python\\python36\\lib\\site-packages (5.3.0)\n"
     ]
    },
    {
     "name": "stderr",
     "output_type": "stream",
     "text": [
      "You are using pip version 10.0.1, however version 18.1 is available.\n",
      "You should consider upgrading via the 'python -m pip install --upgrade pip' command.\n"
     ]
    }
   ],
   "source": [
    "!pip install pillow"
   ]
  },
  {
   "cell_type": "code",
   "execution_count": 2,
   "metadata": {},
   "outputs": [],
   "source": [
    "from functools import reduce\n",
    "\n",
    "from IPython.display import display, HTML\n",
    "\n",
    "from PIL import Image"
   ]
  },
  {
   "cell_type": "code",
   "execution_count": 3,
   "metadata": {},
   "outputs": [],
   "source": [
    "DOC = \"\"\"\n",
    "<html>\n",
    "    <head>\n",
    "        <style>{}</style>\n",
    "    </head>\n",
    "    <body>{}</body>\n",
    "</html>\n",
    "\"\"\"\n",
    "\n",
    "CSS = \"\"\"\n",
    "* {\n",
    "    text-align: center !important;\n",
    "    margin: auto !important;\n",
    "}\n",
    "\"\"\"\n",
    "\n",
    "def save_html(path, body):\n",
    "    with open(path, 'w') as f:\n",
    "        f.write(DOC.format(CSS, body))"
   ]
  },
  {
   "cell_type": "code",
   "execution_count": 4,
   "metadata": {},
   "outputs": [],
   "source": [
    "def html(*args):\n",
    "    #display(HTML(reduce(lambda a,b: ''.join([a,b]), map(str, args))))\n",
    "    html = HTML(reduce(lambda a,b: ''.join([a,b]), map(str, args)))\n",
    "    print(html.data)\n",
    "    \n",
    "def img(path):\n",
    "    #display(Image.open(path))\n",
    "    html('<img src=\"{}\">'.format(path))"
   ]
  },
  {
   "cell_type": "code",
   "execution_count": 5,
   "metadata": {},
   "outputs": [
    {
     "data": {
      "text/plain": [
       "{0: 'A', 1: 'B', 2: 'X', 3: 'O'}"
      ]
     },
     "execution_count": 5,
     "metadata": {},
     "output_type": "execute_result"
    }
   ],
   "source": [
    "PATTERNS = dict(enumerate(['A','B','X','O']))\n",
    "PATTERNS"
   ]
  },
  {
   "cell_type": "code",
   "execution_count": 26,
   "metadata": {},
   "outputs": [],
   "source": [
    "ks = [7*i for i in range(4)]"
   ]
  },
  {
   "cell_type": "code",
   "execution_count": 31,
   "metadata": {
    "scrolled": false
   },
   "outputs": [],
   "source": [
    "%%capture cap\n",
    "html('APPENDIX A')\n",
    "for p_i,letter in PATTERNS.items():\n",
    "    html('<h1>pattern ', letter, '</h1>')\n",
    "    for k in ks:\n",
    "        html('<h3>k = ', k, '</h3>')\n",
    "        for suffix in ['states', 'overlap']:\n",
    "            html('<h4>', suffix, '</h4>')\n",
    "            img('../vis/corrupted_{}_k_{}_{}.png'.format(p_i, k, suffix))\n",
    "    html('<h3>energy ', letter, '</p>')\n",
    "    img('../vis/corrupted_{}_energy.png'.format(p_i))"
   ]
  },
  {
   "cell_type": "code",
   "execution_count": 32,
   "metadata": {},
   "outputs": [],
   "source": [
    "save_html('./appendixA.html', cap.stdout)"
   ]
  },
  {
   "cell_type": "code",
   "execution_count": 33,
   "metadata": {
    "scrolled": false
   },
   "outputs": [],
   "source": [
    "%%capture cap\n",
    "html('APPENDIX B')\n",
    "for r_i in range(5):\n",
    "    html('<h1>random pattern ', r_i, '</h1>')\n",
    "    for suffix in ['states', 'overlap', 'energy']:\n",
    "        html('<h4>', suffix, '</h4>')\n",
    "        img('../vis/random_{}_{}.png'.format(r_i, suffix))"
   ]
  },
  {
   "cell_type": "code",
   "execution_count": 34,
   "metadata": {},
   "outputs": [],
   "source": [
    "save_html('./appendixB.html', cap.stdout)"
   ]
  },
  {
   "cell_type": "code",
   "execution_count": 37,
   "metadata": {
    "scrolled": false
   },
   "outputs": [],
   "source": [
    "%%capture cap\n",
    "html('APPENDIX C')\n",
    "for sample_size in [5000, 10000, 20000, 50000]:\n",
    "    html('<h1>sample size ', sample_size, '</h1>')\n",
    "    for suffix in ['counts', 'top20attractors']:\n",
    "        html('<h4>', suffix, '</h4>')\n",
    "        img('../vis/sample_{}_{}.png'.format(sample_size, suffix))"
   ]
  },
  {
   "cell_type": "code",
   "execution_count": 38,
   "metadata": {},
   "outputs": [],
   "source": [
    "save_html('./appendixC.html', cap.stdout)"
   ]
  },
  {
   "cell_type": "code",
   "execution_count": null,
   "metadata": {},
   "outputs": [],
   "source": []
  }
 ],
 "metadata": {
  "kernelspec": {
   "display_name": "Python 3",
   "language": "python",
   "name": "python3"
  },
  "language_info": {
   "codemirror_mode": {
    "name": "ipython",
    "version": 3
   },
   "file_extension": ".py",
   "mimetype": "text/x-python",
   "name": "python",
   "nbconvert_exporter": "python",
   "pygments_lexer": "ipython3",
   "version": "3.6.6"
  }
 },
 "nbformat": 4,
 "nbformat_minor": 2
}
